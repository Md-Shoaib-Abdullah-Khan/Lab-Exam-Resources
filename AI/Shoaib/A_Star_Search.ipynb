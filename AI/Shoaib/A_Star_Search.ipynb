{
 "cells": [
  {
   "cell_type": "code",
   "execution_count": 2,
   "metadata": {},
   "outputs": [
    {
     "name": "stdout",
     "output_type": "stream",
     "text": [
      "Shortest path found: ['S', 'A', 'C', 'G']\n"
     ]
    }
   ],
   "source": [
    "import heapq\n",
    "\n",
    "class Node:\n",
    "    def __init__(self, name, parent=None, g=0, h=0):\n",
    "        self.name = name\n",
    "        self.parent = parent\n",
    "        self.g = g  # Cost from start node to current node\n",
    "        self.h = h  # Heuristic cost from current node to goal\n",
    "        self.f = g + h  # Total cost\n",
    "\n",
    "    def __lt__(self, other):\n",
    "        return self.f < other.f\n",
    "\n",
    "def astar_search(graph, heuristics, start, goal):\n",
    "    open_list = []\n",
    "    closed_list = set()\n",
    "\n",
    "    start_node = Node(start, None, 0, heuristics[start])\n",
    "    heapq.heappush(open_list, start_node)\n",
    "\n",
    "    while open_list:\n",
    "        current_node = heapq.heappop(open_list)\n",
    "\n",
    "        if current_node.name == goal:\n",
    "            path = []\n",
    "            while current_node:\n",
    "                path.append(current_node.name)\n",
    "                current_node = current_node.parent\n",
    "            return path[::-1]\n",
    "\n",
    "        closed_list.add(current_node.name)\n",
    "\n",
    "        for neighbor, cost in graph[current_node.name].items():\n",
    "            if neighbor in closed_list:\n",
    "                continue\n",
    "\n",
    "            g_cost = current_node.g + cost\n",
    "            h_cost = heuristics.get(neighbor, float('inf'))\n",
    "            new_node = Node(neighbor, current_node, g_cost, h_cost)\n",
    "\n",
    "            if any(node for node in open_list if node.name == neighbor and node.g <= g_cost):\n",
    "                continue\n",
    "\n",
    "            heapq.heappush(open_list, new_node)\n",
    "\n",
    "    return None  # No path found\n",
    "\n",
    "# Example graph (Adjacency List representation)\n",
    "graph = {\n",
    "    'S': {'A': 1, 'G': 10},\n",
    "    'A': {'B': 2, 'C': 1},\n",
    "    'B': {'D': 5},\n",
    "    'C': {'D': 3, 'G': 4},\n",
    "    'D': {'G': 2},\n",
    "    'G': {}\n",
    "}\n",
    "\n",
    "# Example heuristic values (Estimated cost to goal)\n",
    "heuristics = {\n",
    "    'S': 6, 'A': 5, 'B': 7, 'C': 4, 'D': 2, 'G': 0\n",
    "}\n",
    "\n",
    "start_node = 'S'\n",
    "goal_node = 'G'\n",
    "\n",
    "path = astar_search(graph, heuristics, start_node, goal_node)\n",
    "\n",
    "if path:\n",
    "    print(\"Shortest path found:\", path)\n",
    "else:\n",
    "    print(\"No path found\")"
   ]
  }
 ],
 "metadata": {
  "kernelspec": {
   "display_name": "Python 3 (ipykernel)",
   "language": "python",
   "name": "python3"
  },
  "language_info": {
   "codemirror_mode": {
    "name": "ipython",
    "version": 3
   },
   "file_extension": ".py",
   "mimetype": "text/x-python",
   "name": "python",
   "nbconvert_exporter": "python",
   "pygments_lexer": "ipython3",
   "version": "3.11.4"
  }
 },
 "nbformat": 4,
 "nbformat_minor": 4
}
